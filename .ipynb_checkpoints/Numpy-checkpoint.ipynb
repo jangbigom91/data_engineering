{
 "cells": [
  {
   "cell_type": "markdown",
   "id": "d14550df",
   "metadata": {},
   "source": [
    "# Numpy"
   ]
  },
  {
   "cell_type": "markdown",
   "id": "deb09e49",
   "metadata": {},
   "source": [
    "#### zeros()\n",
    "#### - 괄호 안에 입력된 숫자만큼의 원소를 생성하고 0으로 초기화"
   ]
  },
  {
   "cell_type": "code",
   "execution_count": 18,
   "id": "e3225021",
   "metadata": {},
   "outputs": [
    {
     "data": {
      "text/plain": [
       "array([[0, 0],\n",
       "       [0, 0],\n",
       "       [0, 0],\n",
       "       [0, 0],\n",
       "       [0, 0],\n",
       "       [0, 0],\n",
       "       [0, 0],\n",
       "       [0, 0],\n",
       "       [0, 0],\n",
       "       [0, 0]], dtype=int8)"
      ]
     },
     "execution_count": 18,
     "metadata": {},
     "output_type": "execute_result"
    }
   ],
   "source": [
    "import numpy as np\n",
    "\n",
    "# y = np.zeros(shape=(10,2), dtype=np.int8)\n",
    "y = np.zeros(10)\n",
    "y\n",
    "\n",
    "# x = np.array([1, 2, 3])\n",
    "# type(x)\n",
    "# x.shape"
   ]
  },
  {
   "cell_type": "markdown",
   "id": "5a1ae6e0",
   "metadata": {},
   "source": [
    "#### mean() - 배열에 저장된 원소들의 평균값을 계산"
   ]
  },
  {
   "cell_type": "code",
   "execution_count": 23,
   "id": "28d577a0",
   "metadata": {},
   "outputs": [
    {
     "data": {
      "text/plain": [
       "(3,)"
      ]
     },
     "execution_count": 23,
     "metadata": {},
     "output_type": "execute_result"
    }
   ],
   "source": [
    "import numpy as np\n",
    "\n",
    "list_1 = [1, 2, 3]\n",
    "x = np.array(list_1)\n",
    "np.mean(x)\n",
    "x.shape"
   ]
  },
  {
   "cell_type": "markdown",
   "id": "7b6a9225",
   "metadata": {},
   "source": [
    "#### array() - Numpy 형식으로 배열의 원소를 입력할 때는 반드시 리스트 형식으로 입력"
   ]
  },
  {
   "cell_type": "code",
   "execution_count": 30,
   "id": "3c1934d2",
   "metadata": {},
   "outputs": [
    {
     "name": "stdout",
     "output_type": "stream",
     "text": [
      "[1 2 3] [1 2 3] {3, 12, 4} {'a': 'b', 'c': 'd'}\n"
     ]
    }
   ],
   "source": [
    "x = np.array([1, 2, 3])\n",
    "y = np.array((1, 2, 3))\n",
    "z = np.array({12, 3, 4})\n",
    "a = np.array({\"a\" : \"b\", \"c\" : \"d\"})\n",
    "print(x, y, z, a)"
   ]
  },
  {
   "cell_type": "markdown",
   "id": "d8b8383f",
   "metadata": {},
   "source": [
    "#### reshape() - 배열을 원하는 모양으로 생성"
   ]
  },
  {
   "cell_type": "code",
   "execution_count": 36,
   "id": "b0026a06",
   "metadata": {},
   "outputs": [
    {
     "name": "stdout",
     "output_type": "stream",
     "text": [
      "[[1 2 3 4]\n",
      " [5 6 7 8]] (2, 4) \n",
      " [[1 2]\n",
      " [3 4]\n",
      " [5 6]\n",
      " [7 8]] (4, 2)\n"
     ]
    }
   ],
   "source": [
    "import numpy as np\n",
    "a = [1,2,3,4,5,6,7,8]\n",
    "b = np.reshape(a, (2,4))\n",
    "c = np.reshape(a, (4,2))\n",
    "print(b, b.shape, '\\n', c, c.shape)"
   ]
  },
  {
   "cell_type": "markdown",
   "id": "3b059b02",
   "metadata": {},
   "source": [
    "#### reshape() - 3차원 배열 만들기"
   ]
  },
  {
   "cell_type": "code",
   "execution_count": 41,
   "id": "3228fb44",
   "metadata": {},
   "outputs": [
    {
     "name": "stdout",
     "output_type": "stream",
     "text": [
      "[1 2 3 4 5 6 7 8]\n",
      "[[[1 2]\n",
      "  [3 4]]\n",
      "\n",
      " [[5 6]\n",
      "  [7 8]]]\n"
     ]
    }
   ],
   "source": [
    "a = np.arange(1,9)\n",
    "print(a)\n",
    "\n",
    "b = a.reshape(2,2,2)\n",
    "print(b)"
   ]
  },
  {
   "cell_type": "code",
   "execution_count": 43,
   "id": "9a525839",
   "metadata": {},
   "outputs": [
    {
     "name": "stdout",
     "output_type": "stream",
     "text": [
      "[ 1  2  3  4  5  6  7  8  9 10 11 12]\n",
      "[[[ 1  2]\n",
      "  [ 3  4]]\n",
      "\n",
      " [[ 5  6]\n",
      "  [ 7  8]]\n",
      "\n",
      " [[ 9 10]\n",
      "  [11 12]]]\n"
     ]
    }
   ],
   "source": [
    "a = np.arange(1,13)\n",
    "print(a)\n",
    "\n",
    "b = a.reshape(3,2,2)\n",
    "print(b)"
   ]
  },
  {
   "cell_type": "markdown",
   "id": "ba4012c9",
   "metadata": {},
   "source": [
    "### reshape 의미\n",
    "##### reshape함수는 np.reshape(변경할 배열, 차원) 또는 배열.reshape(차원)으로 사용 할 수 있으며, 현재의 배열의 차원(1차원,2차원,3차원)을 변경하여 행렬을 반환하거나 하는 경우에 많이 이용되는 함수이다."
   ]
  },
  {
   "cell_type": "markdown",
   "id": "8a713c50",
   "metadata": {},
   "source": [
    "##### reshape를 활용하는 경우를 보다 보면 입력인수로 -1이 들어간 경우가 종종 있다.\n",
    "##### reshape()의 ‘-1’이 의미하는 바는, 변경된 배열의 ‘-1’ 위치의 차원은 “원래 배열의 길이와 남은 차원으로 부터 추정”이 된다는 뜻이다."
   ]
  },
  {
   "cell_type": "code",
   "execution_count": 45,
   "id": "6413b75d",
   "metadata": {},
   "outputs": [
    {
     "data": {
      "text/plain": [
       "array([[ 0,  1,  2,  3],\n",
       "       [ 4,  5,  6,  7],\n",
       "       [ 8,  9, 10, 11]])"
      ]
     },
     "execution_count": 45,
     "metadata": {},
     "output_type": "execute_result"
    }
   ],
   "source": [
    "x = np.arange(12)\n",
    "x = x.reshape(3,4)\n",
    "x"
   ]
  },
  {
   "cell_type": "markdown",
   "id": "7dfcccad",
   "metadata": {},
   "source": [
    "### reshape(-1,정수) - 행의 위치에 -1인 경우"
   ]
  },
  {
   "cell_type": "code",
   "execution_count": 46,
   "id": "2ca3e572",
   "metadata": {},
   "outputs": [
    {
     "data": {
      "text/plain": [
       "array([[ 0],\n",
       "       [ 1],\n",
       "       [ 2],\n",
       "       [ 3],\n",
       "       [ 4],\n",
       "       [ 5],\n",
       "       [ 6],\n",
       "       [ 7],\n",
       "       [ 8],\n",
       "       [ 9],\n",
       "       [10],\n",
       "       [11]])"
      ]
     },
     "execution_count": 46,
     "metadata": {},
     "output_type": "execute_result"
    }
   ],
   "source": [
    "x.reshape(-1,1)"
   ]
  },
  {
   "cell_type": "code",
   "execution_count": 47,
   "id": "148de456",
   "metadata": {},
   "outputs": [
    {
     "data": {
      "text/plain": [
       "array([[ 0,  1],\n",
       "       [ 2,  3],\n",
       "       [ 4,  5],\n",
       "       [ 6,  7],\n",
       "       [ 8,  9],\n",
       "       [10, 11]])"
      ]
     },
     "execution_count": 47,
     "metadata": {},
     "output_type": "execute_result"
    }
   ],
   "source": [
    "x.reshape(-1,2)"
   ]
  },
  {
   "cell_type": "code",
   "execution_count": 48,
   "id": "75ab488d",
   "metadata": {},
   "outputs": [
    {
     "data": {
      "text/plain": [
       "array([[ 0,  1,  2],\n",
       "       [ 3,  4,  5],\n",
       "       [ 6,  7,  8],\n",
       "       [ 9, 10, 11]])"
      ]
     },
     "execution_count": 48,
     "metadata": {},
     "output_type": "execute_result"
    }
   ],
   "source": [
    "x.reshape(-1,3)"
   ]
  },
  {
   "cell_type": "markdown",
   "id": "9188277b",
   "metadata": {},
   "source": [
    "#### ones() - 배열을 1의 값들로 채움"
   ]
  },
  {
   "cell_type": "code",
   "execution_count": 53,
   "id": "777e4371",
   "metadata": {},
   "outputs": [
    {
     "name": "stdout",
     "output_type": "stream",
     "text": [
      "[[1. 1. 1.]\n",
      " [1. 1. 1.]\n",
      " [1. 1. 1.]\n",
      " [1. 1. 1.]]\n"
     ]
    }
   ],
   "source": [
    "y = np.ones([4,3])\n",
    "# z = y*2\n",
    "print(y)"
   ]
  },
  {
   "cell_type": "markdown",
   "id": "365a92f9",
   "metadata": {},
   "source": [
    "### Numpy 배열의 슬라이싱"
   ]
  },
  {
   "cell_type": "code",
   "execution_count": 69,
   "id": "5f1c1277",
   "metadata": {},
   "outputs": [
    {
     "name": "stdout",
     "output_type": "stream",
     "text": [
      "[2, 12]\n"
     ]
    }
   ],
   "source": [
    "list1 = [[1, 11], [2, 12], [3, 13], [4, 14]]\n",
    "print(list1[:][1])"
   ]
  },
  {
   "cell_type": "code",
   "execution_count": 65,
   "id": "9b19fd79",
   "metadata": {},
   "outputs": [
    {
     "name": "stdout",
     "output_type": "stream",
     "text": [
      "[[ 1 11]\n",
      " [ 2 12]\n",
      " [ 3 13]\n",
      " [ 4 14]]\n",
      "[11 12 13 14]\n",
      "[ 2 12]\n",
      "12\n",
      "[ 2 12]\n"
     ]
    }
   ],
   "source": [
    "list1 = [[1, 11], [2, 12], [3, 13], [4, 14]]\n",
    "arr = np.array(list1)\n",
    "print(arr)\n",
    "print(arr[:, 1])\n",
    "print(arr [:][1]) # 2번째열 모든 행\n",
    "print(arr [1][1])\n",
    "print(arr [0:3][1])"
   ]
  },
  {
   "cell_type": "markdown",
   "id": "431a914c",
   "metadata": {},
   "source": [
    "#### math 모듈의 sqrt()와 numpy 모듈의 sqrt() 비교"
   ]
  },
  {
   "cell_type": "code",
   "execution_count": 72,
   "id": "7c0a873d",
   "metadata": {},
   "outputs": [
    {
     "data": {
      "text/plain": [
       "1.4142135623730951"
      ]
     },
     "execution_count": 72,
     "metadata": {},
     "output_type": "execute_result"
    }
   ],
   "source": [
    "import math\n",
    "math.sqrt(2)\n",
    "# math.sqrt([2,3,4]) math 모듈에서 sqrt()는 list값을 받을 수 없다."
   ]
  },
  {
   "cell_type": "code",
   "execution_count": 71,
   "id": "6c8af59a",
   "metadata": {},
   "outputs": [
    {
     "data": {
      "text/plain": [
       "array([1.41421356, 1.73205081, 2.        ])"
      ]
     },
     "execution_count": 71,
     "metadata": {},
     "output_type": "execute_result"
    }
   ],
   "source": [
    "import numpy as np\n",
    "np.sqrt(2)\n",
    "np.sqrt([2,3,4]) # numpy 모듈에서 sqrt()는 list값도 받을 수 있다."
   ]
  },
  {
   "cell_type": "code",
   "execution_count": 74,
   "id": "6bef2ef2",
   "metadata": {},
   "outputs": [
    {
     "name": "stdout",
     "output_type": "stream",
     "text": [
      "[0. 0. 0. 0. 0. 0. 0. 0. 0. 0. 0. 0. 0. 0. 0.]\n"
     ]
    }
   ],
   "source": [
    "import numpy as np\n",
    "\n",
    "x = np.zeros(15)\n",
    "print(x)"
   ]
  },
  {
   "cell_type": "code",
   "execution_count": 76,
   "id": "e4bd8a1d",
   "metadata": {},
   "outputs": [
    {
     "name": "stdout",
     "output_type": "stream",
     "text": [
      "[[0. 0. 0.]\n",
      " [0. 0. 0.]\n",
      " [0. 0. 0.]\n",
      " [0. 0. 0.]\n",
      " [0. 0. 0.]]\n"
     ]
    }
   ],
   "source": [
    "y = np.zeros([5,3])\n",
    "print(y)"
   ]
  },
  {
   "cell_type": "code",
   "execution_count": 79,
   "id": "361d2224",
   "metadata": {},
   "outputs": [
    {
     "name": "stdout",
     "output_type": "stream",
     "text": [
      "[[0. 0. 0. 0. 0.]\n",
      " [0. 0. 0. 0. 0.]\n",
      " [0. 0. 0. 0. 0.]]\n"
     ]
    }
   ],
   "source": [
    "# (3,5) 형태로 reshape\n",
    "y = np.zeros([5,3])\n",
    "z = y.reshape([3,5])\n",
    "print(z)"
   ]
  },
  {
   "cell_type": "code",
   "execution_count": 83,
   "id": "d2e17046",
   "metadata": {},
   "outputs": [
    {
     "name": "stdout",
     "output_type": "stream",
     "text": [
      "[[4. 4. 4. 4. 4.]\n",
      " [4. 4. 4. 4. 4.]\n",
      " [4. 4. 4. 4. 4.]] \n",
      "\n",
      "[[4. 4. 4. 4. 4.]\n",
      " [4. 4. 4. 4. 4.]\n",
      " [4. 4. 4. 4. 4.]]\n"
     ]
    }
   ],
   "source": [
    "# 원소값이 4인 3행5열(3,5) 출력\n",
    "y = np.zeros([5,3])\n",
    "z = y.reshape([3,5])\n",
    "z += 4\n",
    "print(z,'\\n')\n",
    "\n",
    "x = np.ones([3,5])\n",
    "y = x*4\n",
    "print(y)"
   ]
  },
  {
   "cell_type": "markdown",
   "id": "663e12eb",
   "metadata": {},
   "source": [
    "### 전치행렬\n",
    "#### - 행과 열을 교환하여 얻어지는 행렬\n",
    "#### - 행렬의 값들을 주대각선을 기준으로 위치를 바꾼 행렬을 의미\n"
   ]
  },
  {
   "cell_type": "markdown",
   "id": "2c919a50",
   "metadata": {},
   "source": [
    "#### transpose() - 전치행렬로 변환"
   ]
  },
  {
   "cell_type": "code",
   "execution_count": 90,
   "id": "c8b53a3b",
   "metadata": {},
   "outputs": [
    {
     "name": "stdout",
     "output_type": "stream",
     "text": [
      "[[1 2]\n",
      " [3 4]]\n",
      "\n",
      "\n",
      "[[1 3]\n",
      " [2 4]]\n"
     ]
    }
   ],
   "source": [
    "import numpy as np\n",
    "\n",
    "ary = np.array([[1,2], [3,4]])\n",
    "print(ary)\n",
    "print('\\n')\n",
    "\n",
    "transpose_ary = ary.transpose()\n",
    "print(transpose_ary)"
   ]
  },
  {
   "cell_type": "code",
   "execution_count": 91,
   "id": "40326a06",
   "metadata": {},
   "outputs": [
    {
     "name": "stdout",
     "output_type": "stream",
     "text": [
      "[[1 2 5]\n",
      " [3 4 6]]\n",
      "\n",
      "\n",
      "[[1 3]\n",
      " [2 4]\n",
      " [5 6]]\n"
     ]
    }
   ],
   "source": [
    "ary = np.array([[1,2, 5], [3,4,6]])\n",
    "print(ary)\n",
    "print('\\n')\n",
    "\n",
    "transpose_ary = ary.transpose()\n",
    "print(transpose_ary) # transpose()를 쓰면 행과열의 바뀐다."
   ]
  },
  {
   "cell_type": "markdown",
   "id": "c4d94353",
   "metadata": {},
   "source": [
    "### 2개 배열에 대한 연산\n",
    "#### – 2개 배열에 저장된 내용을 인덱스별로 계산\n",
    "#### – 선형대수학의 사칙연산과 동일하게 작동\n",
    "#### – 곱셈도 같은 원리로 동작"
   ]
  },
  {
   "cell_type": "code",
   "execution_count": 95,
   "id": "c9c2a30d",
   "metadata": {},
   "outputs": [
    {
     "name": "stdout",
     "output_type": "stream",
     "text": [
      "[4 6 8]\n",
      "[2 2 2]\n",
      "[ 3  8 15]\n",
      "[3.         2.         1.66666667]\n",
      "[0 0 2]\n",
      "[  3  16 125]\n"
     ]
    }
   ],
   "source": [
    "import numpy as np\n",
    "\n",
    "x = np.array([3, 4, 5])\n",
    "y = np.array([1, 2, 3])\n",
    "\n",
    "print(x + y)\n",
    "print(x - y)\n",
    "print(x * y)\n",
    "print(x / y)\n",
    "print(x % y)\n",
    "print(x ** y)"
   ]
  },
  {
   "cell_type": "code",
   "execution_count": 98,
   "id": "2ed299aa",
   "metadata": {},
   "outputs": [
    {
     "name": "stdout",
     "output_type": "stream",
     "text": [
      "[ 249 1030 3131]\n"
     ]
    }
   ],
   "source": [
    "x = np.array([3, 4, 5])\n",
    "x **= 5\n",
    "x += 6\n",
    "print(x)"
   ]
  },
  {
   "cell_type": "markdown",
   "id": "d79e7a35",
   "metadata": {},
   "source": [
    "### 인덱싱"
   ]
  },
  {
   "cell_type": "code",
   "execution_count": 99,
   "id": "92669397",
   "metadata": {},
   "outputs": [
    {
     "name": "stdout",
     "output_type": "stream",
     "text": [
      "[4 5 6]\n",
      "[2 5 8]\n"
     ]
    }
   ],
   "source": [
    "import numpy as np\n",
    "\n",
    "x = np.array([[1, 2, 3], [4, 5, 6], [7, 8, 9]])\n",
    "print(x[1])\n",
    "print(x[:, 1])"
   ]
  },
  {
   "cell_type": "markdown",
   "id": "aac85bc2",
   "metadata": {},
   "source": [
    "### 2개의 Numpy 배열 간의 계산"
   ]
  },
  {
   "cell_type": "code",
   "execution_count": 102,
   "id": "ab1b95e8",
   "metadata": {},
   "outputs": [
    {
     "name": "stdout",
     "output_type": "stream",
     "text": [
      "[ 9 11 13]\n"
     ]
    }
   ],
   "source": [
    "# x의 1행과 y의 3행을 더한 값을 출력한다.\n",
    "x = np.array([[1, 2, 3], [4, 5, 6], [7, 8, 9]])\n",
    "y = np.array([[2, 3, 4], [5, 6, 7], [8, 9, 10]])\n",
    "\n",
    "print(x[0, :]+y[2, :])"
   ]
  },
  {
   "cell_type": "code",
   "execution_count": 104,
   "id": "87037c82",
   "metadata": {},
   "outputs": [
    {
     "name": "stdout",
     "output_type": "stream",
     "text": [
      "[16 45 80]\n",
      "[14 40 72]\n"
     ]
    }
   ],
   "source": [
    "# x의 2열과 y의 3행의 곱을 출력\n",
    "print(x[:, 1]*y[2, :])\n",
    "\n",
    "# x의 3행과 y의 1열의 곱을 출력\n",
    "print(x[2, :]*y[:, 0])"
   ]
  },
  {
   "cell_type": "code",
   "execution_count": 105,
   "id": "9205de14",
   "metadata": {},
   "outputs": [
    {
     "name": "stdout",
     "output_type": "stream",
     "text": [
      "[False False False  True  True]\n"
     ]
    }
   ],
   "source": [
    "a = np.array([10, 20, 30 ,40 ,60])\n",
    "\n",
    "b = a>30\n",
    "\n",
    "print(b)"
   ]
  },
  {
   "cell_type": "markdown",
   "id": "a8e00e97",
   "metadata": {},
   "source": [
    "#### random()"
   ]
  },
  {
   "cell_type": "code",
   "execution_count": 112,
   "id": "1c21db57",
   "metadata": {},
   "outputs": [
    {
     "name": "stdout",
     "output_type": "stream",
     "text": [
      "[0.75523636 0.28716017 0.05413663 0.95476388 0.41628023]\n",
      "\n",
      "\n",
      "[[0.85764265 0.2498741  0.62442379]\n",
      " [0.17346298 0.27436184 0.66054194]] (2, 3)\n"
     ]
    }
   ],
   "source": [
    "import numpy as np\n",
    "\n",
    "a = np.random.random(5)\n",
    "print(a)"
   ]
  },
  {
   "cell_type": "markdown",
   "id": "e3f8dc8c",
   "metadata": {},
   "source": [
    "#### random.rand()"
   ]
  },
  {
   "cell_type": "code",
   "execution_count": 115,
   "id": "321acaf1",
   "metadata": {},
   "outputs": [
    {
     "name": "stdout",
     "output_type": "stream",
     "text": [
      "[[0.89619434 0.95790664]\n",
      " [0.16825576 0.35422571]\n",
      " [0.48027853 0.37599837]\n",
      " [0.55458332 0.83161747]\n",
      " [0.75904171 0.57799792]] (5, 2)\n",
      "\n",
      "\n",
      "[[0.89114051 0.67370735 0.5994526 ]\n",
      " [0.45135037 0.56644485 0.66481645]] (2, 3)\n"
     ]
    }
   ],
   "source": [
    "import numpy as np\n",
    "\n",
    "# rand - [0, 1) 범위에서 균일한 분포\n",
    "a = np.random.rand(5,2)\n",
    "print(a, a.shape)\n",
    "print('\\n')\n",
    "\n",
    "b = np.random.rand(2, 3)\n",
    "print(b, b.shape)"
   ]
  },
  {
   "cell_type": "markdown",
   "id": "899cc274",
   "metadata": {},
   "source": [
    "#### random.randint()\n",
    "####  [최소값, 최대값)의 범위에서 임의의 정수를 만듭니다."
   ]
  },
  {
   "cell_type": "code",
   "execution_count": 118,
   "id": "022a9139",
   "metadata": {},
   "outputs": [
    {
     "name": "stdout",
     "output_type": "stream",
     "text": [
      "[1 0 1 1 1]\n",
      "[3 2 2 2 2]\n",
      "[[4 2 2]\n",
      " [3 2 3]]\n"
     ]
    }
   ],
   "source": [
    "import numpy as np\n",
    "# np.random.randint(2, size=5)는 [0, 2) 범위에서 다섯개의 임의의 정수를 생성합니다.\n",
    "\n",
    "# np.random.randint(2, 4, size=5)는 [2, 4) 범위에서 다섯개의 임의의 정수를 생성합니다.\n",
    "\n",
    "# np.random.randint(1, 5, size=(2, 3))는 [1, 5) 범위에서 (2, 3) 형태의 어레이를 생성합니다.\n",
    "\n",
    "a = np.random.randint(2, size=5)\n",
    "print(a)\n",
    "\n",
    "b = np.random.randint(2, 4, size=5)\n",
    "print(b)\n",
    "\n",
    "c = np.random.randint(1, 5, size=(2, 3))\n",
    "print(c)"
   ]
  },
  {
   "cell_type": "markdown",
   "id": "52e16f3a",
   "metadata": {},
   "source": [
    "#### random.seed()\n",
    "#### 난수 생성에 필요한 시드를 설정합니다. 동일한 난수 생성"
   ]
  },
  {
   "cell_type": "code",
   "execution_count": 134,
   "id": "c98d3b87",
   "metadata": {},
   "outputs": [
    {
     "name": "stdout",
     "output_type": "stream",
     "text": [
      "[[0.5488135  0.71518937 0.60276338]\n",
      " [0.54488318 0.4236548  0.64589411]]\n"
     ]
    }
   ],
   "source": [
    "import numpy as np\n",
    "\n",
    "np.random.seed(0)\n",
    "\n",
    "print(np.random.rand(2,3))"
   ]
  },
  {
   "cell_type": "markdown",
   "id": "6cb1993d",
   "metadata": {},
   "source": [
    "#### any() 와 all()의 비교"
   ]
  },
  {
   "cell_type": "code",
   "execution_count": 143,
   "id": "8f86b351",
   "metadata": {},
   "outputs": [
    {
     "name": "stdout",
     "output_type": "stream",
     "text": [
      "[False False False False False]\n",
      "False\n"
     ]
    }
   ],
   "source": [
    "a = np.random.rand(5)\n",
    "print(a>0.9)\n",
    "print(np.any(np.all(a>0.9)))"
   ]
  },
  {
   "cell_type": "code",
   "execution_count": 141,
   "id": "a15279f5",
   "metadata": {},
   "outputs": [
    {
     "name": "stdout",
     "output_type": "stream",
     "text": [
      "[ True  True  True  True  True]\n",
      "True\n"
     ]
    }
   ],
   "source": [
    "a = np.random.rand(5)\n",
    "print(a>0.12)\n",
    "print(np.all(np.all(a>0.12)))"
   ]
  },
  {
   "cell_type": "markdown",
   "id": "48a5af64",
   "metadata": {},
   "source": [
    "#### linspace() - 시작과 끝의 값을 지정하고 그 사이의 값을 균등하게 배분"
   ]
  },
  {
   "cell_type": "code",
   "execution_count": 146,
   "id": "bed6583a",
   "metadata": {},
   "outputs": [
    {
     "data": {
      "text/plain": [
       "array([ 1.,  4.,  7., 10., 13.])"
      ]
     },
     "execution_count": 146,
     "metadata": {},
     "output_type": "execute_result"
    }
   ],
   "source": [
    "np.linspace(1, 13 , 5) # 시작값 1, 끝값 13 지정하고 5개로 균등하게 배분"
   ]
  },
  {
   "cell_type": "code",
   "execution_count": 148,
   "id": "7a213d20",
   "metadata": {},
   "outputs": [
    {
     "data": {
      "text/plain": [
       "(array([ 0.,  4.,  8., 12.]), 4.0)"
      ]
     },
     "execution_count": 148,
     "metadata": {},
     "output_type": "execute_result"
    }
   ],
   "source": [
    "np.linspace(0, 12, 4, retstep=True) # retstep=True이면 샘플 간의 간격을 출력"
   ]
  },
  {
   "cell_type": "code",
   "execution_count": 152,
   "id": "23f6f624",
   "metadata": {},
   "outputs": [
    {
     "data": {
      "text/plain": [
       "array([0., 3., 6., 9.])"
      ]
     },
     "execution_count": 152,
     "metadata": {},
     "output_type": "execute_result"
    }
   ],
   "source": [
    "np.linspace(0, 12, 4, endpoint=False) # endpoint=False이면 마지막 값을 제외하고 샘플값을 만들어냄"
   ]
  }
 ],
 "metadata": {
  "kernelspec": {
   "display_name": "Python 3",
   "language": "python",
   "name": "python3"
  },
  "language_info": {
   "codemirror_mode": {
    "name": "ipython",
    "version": 3
   },
   "file_extension": ".py",
   "mimetype": "text/x-python",
   "name": "python",
   "nbconvert_exporter": "python",
   "pygments_lexer": "ipython3",
   "version": "3.8.9"
  }
 },
 "nbformat": 4,
 "nbformat_minor": 5
}
